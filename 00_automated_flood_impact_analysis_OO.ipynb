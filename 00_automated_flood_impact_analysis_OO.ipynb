{
 "cells": [
  {
   "cell_type": "markdown",
   "metadata": {},
   "source": [
    "# Flood Impact Analysis for Somalia\n",
    "\n",
    "### Description:\n",
    "This Jupyter Notebook automates the analysis of flood impacts on various geospatial features in Somalia, including:\n",
    "- **Buildings:** Identifies the number of buildings affected by floods.\n",
    "- **Roads:** Calculates the total length of roads impacted.\n",
    "- **Landcover:** Assesses agricultural and land use types within the flood zone.\n",
    "- **Settlements:** Analyzes settlements within 500 meters of the flood extent.\n",
    "\n",
    "The results are compiled into summary statistics for reporting and decision-making.\n",
    "\n",
    "### Authors:\n",
    "- **Ismail Khalif, SWALIM FAO Sonalia**\n",
    "- **Abdillahi Osman Omar, ITC, University of Twente**  \n",
    "  *Email: abdillahiosmanomar@student.utwente.nl*\n",
    "\n",
    "### Date:\n",
    "- **02/12/2024**\n",
    "\n",
    "---\n",
    "\n",
    "### How to Use:\n",
    "1. Install the required software: Ensure you have ArcGIS Pro or ArcPy installed and configured.\n",
    "2. Update the paths: Customize the workspace, geodatabase, and layer paths to match your environment.\n",
    "3. Run the Notebook: Execute the cells step-by-step or run all cells at once to perform the analysis.\n",
    "4. View Results: Check the output layers and summary table generated in the specified geodatabase.\n",
    "\n",
    "### Requirements:\n",
    "- **ArcGIS Pro (with ArcPy enabled)**\n",
    "- **Python 3.x**\n",
    "- **Jupyter Notebook**\n",
    "\n",
    "---\n"
   ]
  },
  {
   "cell_type": "markdown",
   "metadata": {},
   "source": [
    "## 01. Import Python libraries and initialize the environment\n",
    "\n",
    "### 01a. Install Python libraries\n",
    "```python\n",
    "# !pip install arcpy\n",
    "# !pip install os\n"
   ]
  },
  {
   "cell_type": "markdown",
   "metadata": {},
   "source": [
    "### 01b. Import Python libraries"
   ]
  },
  {
   "cell_type": "code",
   "execution_count": 2,
   "metadata": {},
   "outputs": [],
   "source": [
    "#import arcpy\n",
    "#import os"
   ]
  },
  {
   "cell_type": "markdown",
   "metadata": {},
   "source": [
    "## 02. Define Workspace and Geodatabase Paths\n",
    "\n",
    "### 02a. Set up workspace and paths"
   ]
  },
  {
   "cell_type": "code",
   "execution_count": null,
   "metadata": {},
   "outputs": [],
   "source": [
    "gdb_path = r\".../OneDrive - Food and Agriculture Organization\\Flood impact analysis-UNFAO-ND10822DW\\SOM Flood impact analysis\\SOM Flood impact analysis.gdb\"\n",
    "arcpy.env.workspace = gdb_path\n",
    "arcpy.env.overwriteOutput = True"
   ]
  },
  {
   "cell_type": "markdown",
   "metadata": {},
   "source": [
    "### 02b. Input Layers"
   ]
  },
  {
   "cell_type": "code",
   "execution_count": null,
   "metadata": {},
   "outputs": [],
   "source": [
    "flood_extent_layer = \"SOM_BeletWeyne_Floods_20_11_2024_v3\"\n",
    "buildings_layer = \"c3d7_buildings_BELETEYNE\"\n",
    "roads_layer = \"gis_osm_roads_free_1_ExportFeatures\"\n",
    "landcover_layer = \"Som_Agrimask_Hiraan_Region_UTM_17102022\"\n",
    "settlements_layer = \"harmonised_settlement_14112022\"\n"
   ]
  },
  {
   "cell_type": "markdown",
   "metadata": {},
   "source": [
    "### 02c. Define Output Paths"
   ]
  },
  {
   "cell_type": "code",
   "execution_count": null,
   "metadata": {},
   "outputs": [],
   "source": [
    "flood_analysis_dataset = os.path.join(gdb_path, \"Flood_Analysis\")\n",
    "if not arcpy.Exists(flood_analysis_dataset):\n",
    "    spatial_ref = arcpy.Describe(flood_extent_layer).spatialReference\n",
    "    arcpy.CreateFeatureDataset_management(gdb_path, \"Flood_Analysis\", spatial_ref)\n",
    "\n",
    "clipped_buildings = os.path.join(flood_analysis_dataset, \"Clipped_Buildings\")\n",
    "clipped_roads = os.path.join(flood_analysis_dataset, \"Clipped_Roads\")\n",
    "clipped_landcover = os.path.join(flood_analysis_dataset, \"Clipped_Landcover\")\n",
    "buffer_output = os.path.join(gdb_path, \"FloodExtent_Buffer_500m\")\n",
    "intersect_output = os.path.join(gdb_path, \"Settlements_Intersect_Buffer\")\n",
    "main_stats_table = os.path.join(gdb_path, \"FloodStatisticsTable\")\n",
    "categorized_landcover_table = os.path.join(gdb_path, \"CategorizedLandcoverTable\")\n"
   ]
  },
  {
   "cell_type": "markdown",
   "metadata": {},
   "source": [
    "## 03. Clip Layers to Flood Extent\n",
    "\n",
    "### 03a. Clip Layers"
   ]
  },
  {
   "cell_type": "code",
   "execution_count": null,
   "metadata": {},
   "outputs": [],
   "source": [
    "if not arcpy.Exists(clipped_buildings):\n",
    "    arcpy.analysis.Clip(buildings_layer, flood_extent_layer, clipped_buildings)\n",
    "    print(\"Clipped buildings to flood extent.\")\n",
    "\n",
    "if not arcpy.Exists(clipped_roads):\n",
    "    arcpy.analysis.Clip(roads_layer, flood_extent_layer, clipped_roads)\n",
    "    print(\"Clipped roads to flood extent.\")\n",
    "\n",
    "if not arcpy.Exists(clipped_landcover):\n",
    "    arcpy.analysis.Clip(landcover_layer, flood_extent_layer, clipped_landcover)\n",
    "    print(\"Clipped landcover to flood extent.\")\n"
   ]
  },
  {
   "cell_type": "markdown",
   "metadata": {},
   "source": [
    "## 04. Calculate General Statistics\n",
    "\n",
    "### 04a. Calculate Statistics"
   ]
  },
  {
   "cell_type": "code",
   "execution_count": null,
   "metadata": {},
   "outputs": [],
   "source": [
    "# Buildings count\n",
    "building_count = int(arcpy.management.GetCount(clipped_buildings)[0])\n",
    "print(f\"Number of buildings in flood area: {building_count}\")\n",
    "\n",
    "# Roads length in kilometers\n",
    "if \"Road_Length_km\" not in [field.name for field in arcpy.ListFields(clipped_roads)]:\n",
    "    arcpy.management.AddField(clipped_roads, \"Road_Length_km\", \"DOUBLE\")\n",
    "arcpy.management.CalculateGeometryAttributes(\n",
    "    clipped_roads, [[\"Road_Length_km\", \"LENGTH_GEODESIC\"]], length_unit=\"KILOMETERS\"\n",
    ")\n",
    "road_length = sum(row[0] for row in arcpy.da.SearchCursor(clipped_roads, [\"Road_Length_km\"]))\n",
    "print(f\"Total road length in flood area: {road_length:.2f} km\")\n",
    "\n",
    "# Total flooded area in hectares\n",
    "if \"Area_Ha\" not in [field.name for field in arcpy.ListFields(flood_extent_layer)]:\n",
    "    arcpy.management.AddField(flood_extent_layer, \"Area_Ha\", \"DOUBLE\")\n",
    "arcpy.management.CalculateGeometryAttributes(\n",
    "    flood_extent_layer, [[\"Area_Ha\", \"AREA_GEODESIC\"]], area_unit=\"HECTARES\"\n",
    ")\n",
    "total_flooded_area = sum(row[0] for row in arcpy.da.SearchCursor(flood_extent_layer, [\"Area_Ha\"]))\n",
    "print(f\"Total flooded area: {total_flooded_area:.2f} hectares\")\n"
   ]
  },
  {
   "cell_type": "markdown",
   "metadata": {},
   "source": [
    "## 05. Categorize Agricultural Land Statistics\n",
    "\n",
    "### 05a. Classify Landcover"
   ]
  },
  {
   "cell_type": "code",
   "execution_count": null,
   "metadata": {},
   "outputs": [],
   "source": [
    "# Define categories of interest\n",
    "selected_classes = {\n",
    "    \"HI\": \"Herbaceous Crop Irrigated\",\n",
    "    \"SI\": \"Shrub Irrigated Crop\",\n",
    "    \"HR\": \"Herbaceous Crop Rainfed\",\n",
    "    \"TI\": \"Tree Crop Irrigated\"\n",
    "}\n",
    "\n",
    "# Add a new \"Category\" field if it doesn't exist\n",
    "if \"Category\" not in [field.name for field in arcpy.ListFields(clipped_landcover)]:\n",
    "    arcpy.management.AddField(clipped_landcover, \"Category\", \"TEXT\")\n",
    "\n",
    "# Update \"Category\" based on the selected landcover classes\n",
    "with arcpy.da.UpdateCursor(clipped_landcover, [\"LCCS\", \"Category\"]) as cursor:\n",
    "    for row in cursor:\n",
    "        if row[0] in selected_classes:  # Check if the LCCS value is in the selected classes\n",
    "            row[1] = selected_classes[row[0]]\n",
    "        else:\n",
    "            row[1] = \"Other\"\n",
    "        cursor.updateRow(row)\n",
    "print(\"Categorized agricultural land statistics.\")\n"
   ]
  },
  {
   "cell_type": "markdown",
   "metadata": {},
   "source": [
    "### 05b. Save Categorized Statistics"
   ]
  },
  {
   "cell_type": "code",
   "execution_count": null,
   "metadata": {},
   "outputs": [],
   "source": [
    "if \"Area_Ha\" not in [field.name for field in arcpy.ListFields(clipped_landcover)]:\n",
    "    arcpy.management.AddField(clipped_landcover, \"Area_Ha\", \"DOUBLE\")\n",
    "    arcpy.management.CalculateGeometryAttributes(\n",
    "        clipped_landcover, [[\"Area_Ha\", \"AREA_GEODESIC\"]], area_unit=\"HECTARES\"\n",
    "    )\n",
    "\n",
    "if not arcpy.Exists(categorized_landcover_table):\n",
    "    arcpy.analysis.Statistics(\n",
    "        clipped_landcover,\n",
    "        categorized_landcover_table,\n",
    "        [[\"Area_Ha\", \"SUM\"]],\n",
    "        \"Category\"\n",
    "    )\n",
    "    print(\"Categorized landcover statistics saved.\")\n"
   ]
  },
  {
   "cell_type": "markdown",
   "metadata": {},
   "source": [
    "## 06. Analyze Settlements Within 500m Buffer\n",
    "\n",
    "### 06a. Buffer and Intersect"
   ]
  },
  {
   "cell_type": "code",
   "execution_count": null,
   "metadata": {},
   "outputs": [],
   "source": [
    "if not arcpy.Exists(buffer_output):\n",
    "    arcpy.analysis.Buffer(flood_extent_layer, buffer_output, \"500 Meters\", dissolve_option=\"ALL\")\n",
    "    print(\"Created buffer around flood extent.\")\n",
    "\n",
    "if not arcpy.Exists(intersect_output):\n",
    "    arcpy.analysis.Intersect([buffer_output, settlements_layer], intersect_output)\n",
    "    print(\"Intersected settlements with flood buffer.\")\n",
    "\n",
    "settlement_count = int(arcpy.management.GetCount(intersect_output)[0])\n",
    "print(f\"Number of settlements within 500 meters of flooded area: {settlement_count}\")\n"
   ]
  },
  {
   "cell_type": "markdown",
   "metadata": {},
   "source": [
    "## 07. Compile Statistics Table\n",
    "\n",
    "### 07a. Compile General Statistics"
   ]
  },
  {
   "cell_type": "code",
   "execution_count": null,
   "metadata": {},
   "outputs": [],
   "source": [
    "if not arcpy.Exists(main_stats_table):\n",
    "    arcpy.management.CreateTable(gdb_path, \"FloodStatisticsTable\")\n",
    "    arcpy.management.AddField(main_stats_table, \"Description\", \"TEXT\")\n",
    "    arcpy.management.AddField(main_stats_table, \"Result\", \"TEXT\")\n",
    "\n",
    "# Insert new statistics\n",
    "with arcpy.da.InsertCursor(main_stats_table, [\"Description\", \"Result\"]) as cursor:\n",
    "    cursor.insertRow((\"Total Flooded Area\", f\"{total_flooded_area:.2f} Ha\"))\n",
    "    cursor.insertRow((\"Total Settlements within 500m\", str(settlement_count)))\n",
    "    cursor.insertRow((\"Total Buildings\", str(building_count)))\n",
    "    cursor.insertRow((\"Total Road Length\", f\"{road_length:.2f} km\"))\n",
    "    cursor.insertRow((\"Total Agricultural Flooded Area\", f\"{total_agriculture_area:.2f} Ha\"))\n",
    "\n",
    "print(\"Flood statistics compiled into the main table.\")\n"
   ]
  },
  {
   "cell_type": "markdown",
   "metadata": {},
   "source": [
    "### **Conclusion**\n",
    "\n",
    "This analysis assessed the flood impact in BeletWeyne, Somalia, by clipping spatial layers (buildings, roads, land cover) to the flood extent and calculating key statistics, including buildings, road length, and flooded area. Agricultural land categorization quantified crop loss, and settlements within the flood buffer highlighted areas of vulnerability.\n",
    "\n",
    "The results provide valuable insights for emergency planning and resource allocation. The methodology, leveraging ArcGIS tools, can be applied to similar flood events, with potential for further integration of socioeconomic data for enhanced vulnerability assessment and mitigation strategies.\n",
    "\n",
    "If you have any questions, please contact the authors.\n",
    "\n",
    "### Authors:\n",
    "- **Ismail Khalif, SWALIM FAO Sonalia**\n",
    "- **Abdillahi Osman Omar, ITC, University of Twente**  \n",
    "  *Email: abdillahiosmanomar@student.utwente.nl*\n"
   ]
  }
 ],
 "metadata": {
  "kernelspec": {
   "display_name": "python_foundation",
   "language": "python",
   "name": "python3"
  },
  "language_info": {
   "codemirror_mode": {
    "name": "ipython",
    "version": 3
   },
   "file_extension": ".py",
   "mimetype": "text/x-python",
   "name": "python",
   "nbconvert_exporter": "python",
   "pygments_lexer": "ipython3",
   "version": "3.11.5"
  }
 },
 "nbformat": 4,
 "nbformat_minor": 2
}
